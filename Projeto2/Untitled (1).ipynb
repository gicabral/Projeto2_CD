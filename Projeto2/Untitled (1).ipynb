{
 "cells": [
  {
   "cell_type": "code",
   "execution_count": 19,
   "metadata": {},
   "outputs": [
    {
     "ename": "NameError",
     "evalue": "name 'features_sets' is not defined",
     "output_type": "error",
     "traceback": [
      "\u001b[1;31m---------------------------------------------------------------------------\u001b[0m",
      "\u001b[1;31mNameError\u001b[0m                                 Traceback (most recent call last)",
      "\u001b[1;32m<ipython-input-19-f552a6f1c26e>\u001b[0m in \u001b[0;36m<module>\u001b[1;34m()\u001b[0m\n\u001b[0;32m     43\u001b[0m \u001b[1;33m\u001b[0m\u001b[0m\n\u001b[0;32m     44\u001b[0m \u001b[1;31m# Training classifier.\u001b[0m\u001b[1;33m\u001b[0m\u001b[1;33m\u001b[0m\u001b[0m\n\u001b[1;32m---> 45\u001b[1;33m \u001b[0mclassifier\u001b[0m \u001b[1;33m=\u001b[0m \u001b[0mnltk\u001b[0m\u001b[1;33m.\u001b[0m\u001b[0mNaiveBayesClassifier\u001b[0m\u001b[1;33m.\u001b[0m\u001b[0mtrain\u001b[0m\u001b[1;33m(\u001b[0m\u001b[0mreview\u001b[0m\u001b[1;33m,\u001b[0m \u001b[0mfeatures_sets\u001b[0m\u001b[1;33m)\u001b[0m\u001b[1;33m\u001b[0m\u001b[0m\n\u001b[0m\u001b[0;32m     46\u001b[0m \u001b[0mprint\u001b[0m\u001b[1;33m(\u001b[0m\u001b[1;34m\"Naive Bayes Classifier Accuracy: {}%\"\u001b[0m\u001b[1;33m.\u001b[0m\u001b[0mformat\u001b[0m\u001b[1;33m(\u001b[0m\u001b[0mnltk\u001b[0m\u001b[1;33m.\u001b[0m\u001b[0mclassify\u001b[0m\u001b[1;33m.\u001b[0m\u001b[0maccuracy\u001b[0m\u001b[1;33m(\u001b[0m\u001b[0mclassifier\u001b[0m\u001b[1;33m,\u001b[0m \u001b[0mtesting_set\u001b[0m\u001b[1;33m)\u001b[0m\u001b[1;33m*\u001b[0m\u001b[1;36m100\u001b[0m\u001b[1;33m)\u001b[0m\u001b[1;33m)\u001b[0m\u001b[1;33m\u001b[0m\u001b[0m\n\u001b[0;32m     47\u001b[0m \u001b[1;33m\u001b[0m\u001b[0m\n",
      "\u001b[1;31mNameError\u001b[0m: name 'features_sets' is not defined"
     ]
    }
   ],
   "source": [
    "import nltk\n",
    "import random\n",
    "import pickle\n",
    "import pandas as pd\n",
    "\n",
    "\n",
    "\n",
    "review_docs = pd.read_excel('tweets_samsung_classificados.xlsx')\n",
    "\n",
    "all_labeled_reviews = []\n",
    "all_words = []\n",
    "\n",
    "allowed_word_types = [\"J\"] # Only adjectives allowed.\n",
    "\n",
    "for review_document in review_docs[\"Treinamento\"]:\n",
    "    for review in review_document.split(\"\\n\"):\n",
    "        \n",
    "        all_labeled_reviews.append(review)\n",
    "        \n",
    "        for tagged_word in review:\n",
    "            if review[0] in allowed_word_types:\n",
    "                all_words.append(tagged_word[0])\n",
    "\n",
    "features = nltk.FreqDist(all_words)\n",
    "features = list(features.keys())[:2000] # 2,277.\n",
    "\n",
    "def extract_features_from(review):\n",
    "    \"\"\"\n",
    "    Feature extractor for 'review'. Returns a 'feature_set'\n",
    "    dictionary with the feature names and their respective values.\n",
    "    \"\"\"\n",
    "    feature_set = {}\n",
    "    for feature_name in features:\n",
    "        feature_set[\"contains({})\".format(feature_name)] = (feature_name in review)\n",
    "    return feature_set\n",
    "\n",
    "# 'feature_sets' contains the data ready to be fed into the classifier.   \n",
    "feature_sets = extract_features_from(review)# 10,004.\n",
    "\n",
    "# Shuffling 'feature_sets'. Otherwise our training and testing procedures will be biased.\n",
    "random.shuffle(feature_sets)\n",
    "\n",
    "\n",
    "# Training classifier.\n",
    "classifier = nltk.NaiveBayesClassifier.train(review, features_sets)\n",
    "print(\"Naive Bayes Classifier Accuracy: {}%\".format(nltk.classify.accuracy(classifier, testing_set)*100))\n",
    "\n",
    "# Pickling important objects.\n",
    "with open(\"features_file.pickle\", \"wb\") as features_file:\n",
    "    pickle.dump(features, features_file)\n",
    "\n",
    "with open(\"classifier_file.pickle\", \"wb\") as classifier_file:\n",
    "    pickle.dump(classifier, classifier_file)"
   ]
  },
  {
   "cell_type": "code",
   "execution_count": null,
   "metadata": {},
   "outputs": [],
   "source": []
  }
 ],
 "metadata": {
  "kernelspec": {
   "display_name": "Python 3",
   "language": "python",
   "name": "python3"
  },
  "language_info": {
   "codemirror_mode": {
    "name": "ipython",
    "version": 3
   },
   "file_extension": ".py",
   "mimetype": "text/x-python",
   "name": "python",
   "nbconvert_exporter": "python",
   "pygments_lexer": "ipython3",
   "version": "3.6.5"
  }
 },
 "nbformat": 4,
 "nbformat_minor": 2
}
